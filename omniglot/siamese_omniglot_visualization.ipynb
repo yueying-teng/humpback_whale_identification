{
 "cells": [
  {
   "cell_type": "code",
   "execution_count": 12,
   "metadata": {},
   "outputs": [],
   "source": [
    "\n",
    "%load_ext autoreload\n",
    "%autoreload 2\n"
   ]
  },
  {
   "cell_type": "code",
   "execution_count": 157,
   "metadata": {},
   "outputs": [],
   "source": [
    "from keras.models import model_from_json\n",
    "from keras.preprocessing import image\n",
    "from keras import models\n",
    "\n",
    "import modified_sgd \n",
    "import data_loader\n",
    "import function_for_visualization\n",
    "\n",
    "import numpy as np\n",
    "from PIL import Image\n",
    "import matplotlib.pyplot as plt\n",
    "% matplotlib inline\n"
   ]
  },
  {
   "cell_type": "code",
   "execution_count": 5,
   "metadata": {},
   "outputs": [
    {
     "name": "stdout",
     "output_type": "stream",
     "text": [
      "model loaded from disk\n"
     ]
    }
   ],
   "source": [
    "# load model structure and weights \n",
    "\n",
    "json_file = open('./models/siamese_net_lr10e-4.json', 'r')\n",
    "loaded_model_json = json_file.read()\n",
    "json_file.close()\n",
    "\n",
    "loaded_model = model_from_json(loaded_model_json)\n",
    "# load weights into new model\n",
    "loaded_model.load_weights(\"./models/siamese_net_lr10e-4.h5\")\n",
    "print(\"model loaded from disk\")\n"
   ]
  },
  {
   "cell_type": "code",
   "execution_count": 6,
   "metadata": {},
   "outputs": [],
   "source": [
    "# evaluate loaded model on test data\n",
    "# define the optimizer and compile the model\n",
    "\n",
    "learning_rate = 10e-4\n",
    "\n",
    "# Learning Rate multipliers for each layer\n",
    "learning_rate_multipliers = {}\n",
    "learning_rate_multipliers['Conv1'] = 1\n",
    "learning_rate_multipliers['Conv2'] = 1\n",
    "learning_rate_multipliers['Conv3'] = 1\n",
    "learning_rate_multipliers['Conv4'] = 1\n",
    "learning_rate_multipliers['Dense1'] = 1\n",
    "\n",
    "optimizer = modified_sgd.Modified_SGD(lr = learning_rate, lr_multipliers = learning_rate_multipliers, momentum = 0.5)\n",
    "\n",
    "loaded_model.compile(loss = 'binary_crossentropy', metrics = ['binary_accuracy'], optimizer = optimizer)\n"
   ]
  },
  {
   "cell_type": "code",
   "execution_count": 9,
   "metadata": {},
   "outputs": [
    {
     "name": "stdout",
     "output_type": "stream",
     "text": [
      "\n",
      "one shot on evaluation alphabets:\n",
      "Oriya alphabet, accuracy: 0.525\n",
      "ULOG alphabet, accuracy: 0.725\n",
      "Tengwar alphabet, accuracy: 0.7\n",
      "Malayalam alphabet, accuracy: 0.8\n",
      "Atlantean alphabet, accuracy: 0.5\n",
      "Keble alphabet, accuracy: 0.875\n",
      "Manipuri alphabet, accuracy: 0.625\n",
      "Gurmukhi alphabet, accuracy: 0.725\n",
      "Tibetan alphabet, accuracy: 0.65\n",
      "Aurek-Besh alphabet, accuracy: 0.825\n",
      "Ge_ez alphabet, accuracy: 0.725\n",
      "Angelic alphabet, accuracy: 0.775\n",
      "Old_Church_Slavonic_(Cyrillic) alphabet, accuracy: 0.875\n",
      "Kannada alphabet, accuracy: 0.575\n",
      "Avesta alphabet, accuracy: 0.675\n",
      "Mongolian alphabet, accuracy: 0.675\n",
      "Syriac_(Serto) alphabet, accuracy: 0.7\n",
      "Atemayar_Qelisayer alphabet, accuracy: 0.825\n",
      "Sylheti alphabet, accuracy: 0.65\n",
      "Glagolitic alphabet, accuracy: 0.675\n",
      "\n",
      "Mean global accuracy: 0.705\n"
     ]
    },
    {
     "data": {
      "text/plain": [
       "0.705"
      ]
     },
     "execution_count": 9,
     "metadata": {},
     "output_type": "execute_result"
    }
   ],
   "source": [
    "# testing on the 20 alphabets kept aside\n",
    "\n",
    "testing_accuracy = data_loader.one_shot_test(loaded_model, 20, 40, False)\n",
    "testing_accuracy\n"
   ]
  },
  {
   "cell_type": "markdown",
   "metadata": {},
   "source": [
    "### look at the characters from one alphabet in testing"
   ]
  },
  {
   "cell_type": "code",
   "execution_count": 136,
   "metadata": {},
   "outputs": [],
   "source": [
    "# get image paths for one alphabet in testing, one batch is one alphabet\n",
    "\n",
    "batch_images_path = function_for_visualization.get_one_shot_batch_image_path(support_set_size = 20, is_validation = False,\\\n",
    "                                                                            current_alphabet_index = 3)\n"
   ]
  },
  {
   "cell_type": "code",
   "execution_count": 137,
   "metadata": {},
   "outputs": [],
   "source": [
    "# visualize pairs of images for testing image verification\n",
    "\n",
    "def grid_display(support_set_size, list_images_path, predicted_label_list, width, height):\n",
    "    \n",
    "    nrows = 2 \n",
    "    ncols = int(support_set_size)\n",
    "    fig, ax = plt.subplots(nrows, ncols, sharex = True, sharey = True)\n",
    "    fig.set_figheight(height)\n",
    "    fig.set_figwidth(width)\n",
    "  \n",
    "    for row in range(nrows):\n",
    "        for col in range(ncols):\n",
    "            if (row)% 2 == 0:\n",
    "                # if row is an odd number\n",
    "                img = Image.open(batch_images_path[0])\n",
    "                ax[row, col].imshow(img)\n",
    "                ax[row, col].set_title(batch_images_path[0].split('/')[-2][-2: ])\n",
    "            else:\n",
    "                # if row is an even number \n",
    "                img = Image.open(batch_images_path[col * 2 + 1])\n",
    "                ax[row, col].imshow(img)\n",
    "                ax[row, col].set_title('{}, pred_label: {}'.format(batch_images_path[col * 2 + 1].split('/')[-2][-2: ], predicted_label_list[col]))                \n",
    "            "
   ]
  },
  {
   "cell_type": "code",
   "execution_count": 138,
   "metadata": {},
   "outputs": [],
   "source": [
    "# making prediction and adding the predicted label into the plots\n",
    "\n",
    "def predict_label(image_paths, support_set_size):\n",
    "    # convert images to np.arrays and their corresponding labels image_paths\n",
    "    image_pairs, labels = data_loader.__convert_path_list_to_images_and_labels(batch_images_path, is_one_shot_task = True)\n",
    "\n",
    "    # prediction using pairs of np.arrays just converted \n",
    "    probabilities = loaded_model.predict_on_batch(image_pairs)\n",
    "\n",
    "    # create the label list to use as titles in the visualizations \n",
    "    # label list creation\n",
    "    predicted_labels = [0 for i in range(support_set_size)]\n",
    "    # update with actual predictions\n",
    "    predicted_labels[np.argmax(probabilities)] = 1\n",
    "\n",
    "    return predicted_labels\n"
   ]
  },
  {
   "cell_type": "code",
   "execution_count": 139,
   "metadata": {
    "scrolled": true
   },
   "outputs": [
    {
     "data": {
      "image/png": "[encoded data removed]",
      "text/plain": [
       "<Figure size 2880x504 with 40 Axes>"
      ]
     },
     "metadata": {},
     "output_type": "display_data"
    }
   ],
   "source": [
    "# visualize\n",
    "\n",
    "predicted_labels = predict_label(image_paths = batch_images_path, support_set_size = 20)\n",
    "\n",
    "grid_display(support_set_size = 20, list_images_path = batch_images_path, predicted_label_list = predicted_labels, width = 40, height = 7)\n"
   ]
  },
  {
   "cell_type": "code",
   "execution_count": null,
   "metadata": {},
   "outputs": [],
   "source": []
  },
  {
   "cell_type": "code",
   "execution_count": 114,
   "metadata": {},
   "outputs": [],
   "source": []
  },
  {
   "cell_type": "markdown",
   "metadata": {},
   "source": [
    "### visualize activations"
   ]
  },
  {
   "cell_type": "code",
   "execution_count": 183,
   "metadata": {},
   "outputs": [],
   "source": [
    "# process one pair of images\n",
    "       \n",
    "def process_image_pair(img_path1, img_path2):\n",
    "    \n",
    "    img1 = Image.open(img_path1)\n",
    "    img2 = Image.open(img_path2)\n",
    "    \n",
    "    img1 = np.asarray(img1).astype(np.float64)\n",
    "    img1 = img1/ img1.std() - img1.mean() \n",
    "    img2 = np.asarray(img2).astype(np.float64)\n",
    "    img2 = img2/ img2.std() - img2.mean() \n",
    "    \n",
    "    # put two images into a list of np.array - pair\n",
    "    image_pair = [np.zeros((1, 105, 105, 1)) for i in range(2)]\n",
    "    image_pair[0][0,:, :, 0] = img1\n",
    "    image_pair[1][0,:, :, 0] = img2\n",
    "    \n",
    "    return image_pair\n",
    "    \n"
   ]
  },
  {
   "cell_type": "code",
   "execution_count": 185,
   "metadata": {},
   "outputs": [],
   "source": [
    "one_image_pair = process_image_pair(batch_images_path[0], batch_images_path[3])\n"
   ]
  },
  {
   "cell_type": "code",
   "execution_count": 75,
   "metadata": {},
   "outputs": [
    {
     "name": "stdout",
     "output_type": "stream",
     "text": [
      "__________________________________________________________________________________________________\n",
      "Layer (type)                    Output Shape         Param #     Connected to                     \n",
      "==================================================================================================\n",
      "input_7 (InputLayer)            (None, 105, 105, 1)  0                                            \n",
      "__________________________________________________________________________________________________\n",
      "input_8 (InputLayer)            (None, 105, 105, 1)  0                                            \n",
      "__________________________________________________________________________________________________\n",
      "sequential_2 (Sequential)       (None, 4096)         10636096    input_7[0][0]                    \n",
      "                                                                 input_8[0][0]                    \n",
      "__________________________________________________________________________________________________\n",
      "lambda_4 (Lambda)               (None, 4096)         0           sequential_2[1][0]               \n",
      "                                                                 sequential_2[2][0]               \n",
      "__________________________________________________________________________________________________\n",
      "dense_4 (Dense)                 (None, 1)            4097        lambda_4[0][0]                   \n",
      "==================================================================================================\n",
      "Total params: 10,640,193\n",
      "Trainable params: 10,640,193\n",
      "Non-trainable params: 0\n",
      "__________________________________________________________________________________________________\n"
     ]
    }
   ],
   "source": [
    "loaded_model.summary()"
   ]
  },
  {
   "cell_type": "code",
   "execution_count": 195,
   "metadata": {},
   "outputs": [
    {
     "data": {
      "text/plain": [
       "(1, 105, 105, 1)"
      ]
     },
     "execution_count": 195,
     "metadata": {},
     "output_type": "execute_result"
    }
   ],
   "source": [
    "layer_outputs = [layer.output for layer in loaded_model.layers[: 2]]\n",
    "activation_model = models.Model(inputs = loaded_model.input, outputs = layer_outputs)\n",
    "activations = activation_model.predict(one_image_pair)\n",
    "\n",
    "activations[0].shape\n",
    "\n",
    "# plt.matshow(activations[0][0:, :, :, 0])"
   ]
  },
  {
   "cell_type": "code",
   "execution_count": null,
   "metadata": {},
   "outputs": [],
   "source": []
  }
 ],
 "metadata": {
  "kernelspec": {
   "display_name": "Python 3",
   "language": "python",
   "name": "python3"
  },
  "language_info": {
   "codemirror_mode": {
    "name": "ipython",
    "version": 3
   },
   "file_extension": ".py",
   "mimetype": "text/x-python",
   "name": "python",
   "nbconvert_exporter": "python",
   "pygments_lexer": "ipython3",
   "version": "3.6.5"
  }
 },
 "nbformat": 4,
 "nbformat_minor": 2
}
